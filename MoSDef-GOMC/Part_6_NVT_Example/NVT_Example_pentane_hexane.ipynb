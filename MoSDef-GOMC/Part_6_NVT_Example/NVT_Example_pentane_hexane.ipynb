{
 "cells": [
  {
   "cell_type": "markdown",
   "id": "optical-evolution",
   "metadata": {},
   "source": [
    "# GOMC Example for the NVT Ensemble using MoSDeF [1, 2, 5-10, 13-17]\n"
   ]
  },
  {
   "cell_type": "markdown",
   "id": "working-singer",
   "metadata": {},
   "source": [
    "## Import the required packages and specify the force field (FF), box dimensions, density, and mol ratios [1, 2, 5-10, 13-17]. "
   ]
  },
  {
   "cell_type": "code",
   "execution_count": null,
   "id": "structured-depression",
   "metadata": {},
   "outputs": [],
   "source": [
    "import mbuild as mb\n",
    "import mbuild.formats.charmm_writer as mf_charmm\n",
    "import mbuild.formats.gomc_conf_writer as gomc_control\n",
    "\n",
    "FF_to_use = 'trappe-ua'\n",
    "\n",
    "liquid_box_length_Ang = 45\n",
    "liquid_box_density_kg_per_m_cubed = 642\n",
    "\n",
    "pentane_mol_ratio = 0.5\n",
    "hexane_mol_ratio = 0.5"
   ]
  },
  {
   "cell_type": "markdown",
   "id": "traditional-vocabulary",
   "metadata": {},
   "source": [
    "# Create the pentane and hexane molecules with residue names and minimize their structures [1, 2, 13-17]¶.  \n",
    "\n",
    "# Generate the lists for the molecules, residues, and mol ratios,  residues/molecules force fields [1, 2, 13-17].  \n",
    "\n",
    "## Note: For GOMC, the residue names are treated as molecules, so the residue names must be unique for each different molecule [1, 2, 13-17].\n",
    "\n",
    "## Note: When importing mol2 files, the residue names (pentane.name and hexane.name), must be the same name as in the mol2 file."
   ]
  },
  {
   "cell_type": "code",
   "execution_count": null,
   "id": "future-walker",
   "metadata": {},
   "outputs": [],
   "source": [
    "pentane = mb.load('../common/pentane.mol2')\n",
    "pentane.name = 'PEN'\n",
    "pentane.energy_minimize(forcefield=FF_to_use , steps=10**5)\n",
    "\n",
    "\n",
    "hexane = mb.load('../common/hexane.mol2')\n",
    "hexane.name = 'HEX'\n",
    "hexane.energy_minimize(forcefield=FF_to_use , steps=10**5)\n",
    "\n",
    "\n",
    "molecule_list = [pentane, hexane]\n",
    "residues_list = [pentane.name, hexane.name]\n",
    "mol_ratio_list = [pentane_mol_ratio, hexane_mol_ratio]"
   ]
  },
  {
   "cell_type": "markdown",
   "id": "operational-blackjack",
   "metadata": {},
   "source": [
    "## Build the main liquid simulation box (box 0) for the simulation [1, 2, 13-17]"
   ]
  },
  {
   "cell_type": "code",
   "execution_count": null,
   "id": "unsigned-inspiration",
   "metadata": {},
   "outputs": [],
   "source": [
    "pentane_hexane_box_liq = mb.fill_box(compound=molecule_list,\n",
    "                                     density=liquid_box_density_kg_per_m_cubed,\n",
    "                                     compound_ratio=mol_ratio_list,\n",
    "                                     box=[liquid_box_length_Ang / 10,\n",
    "                                          liquid_box_length_Ang / 10,\n",
    "                                          liquid_box_length_Ang / 10]\n",
    "                                     )"
   ]
  },
  {
   "cell_type": "markdown",
   "id": "raising-imaging",
   "metadata": {},
   "source": [
    "## Build the Charmm object, which is required to write the FF (.inp), psf, pdb, and GOMC control files [1, 2, 5-10, 13-17]"
   ]
  },
  {
   "cell_type": "code",
   "execution_count": null,
   "id": "passive-bracket",
   "metadata": {},
   "outputs": [],
   "source": [
    "charmm = mf_charmm.Charmm(pentane_hexane_box_liq,\n",
    "                          'NVT_pentane_hexane_liq',\n",
    "                          ff_filename=\"NVT_pentane_hexane_FF\",\n",
    "                          forcefield_selection=FF_to_use,\n",
    "                          residues= residues_list,\n",
    "                          )"
   ]
  },
  {
   "cell_type": "markdown",
   "id": "sorted-possession",
   "metadata": {},
   "source": [
    "## Write the write the FF (.inp), psf, pdb, and GOMC control files [1, 2, 5-10, 13-17]\n",
    "\n",
    "### Note:  The electrostatics and Ewald are turned off in the GOMC control file (i.e., False) since the n-alkanes beads in the trappe-ua force field have no charge (i.e., the bead charges are all zero)"
   ]
  },
  {
   "cell_type": "code",
   "execution_count": null,
   "id": "recovered-gossip",
   "metadata": {},
   "outputs": [],
   "source": [
    "charmm.write_inp()\n",
    "\n",
    "charmm.write_psf()\n",
    "\n",
    "charmm.write_pdb()\n",
    "\n",
    "\n",
    "gomc_control.write_gomc_control_file(charmm, 'in_NVT.conf',  'NVT', 100, 300,\n",
    "                                     input_variables_dict={\"ElectroStatic\": False,\n",
    "                                                           \"Ewald\": False,\n",
    "                                                           }\n",
    "                                     )"
   ]
  },
  {
   "cell_type": "code",
   "execution_count": null,
   "id": "destroyed-investment",
   "metadata": {},
   "outputs": [],
   "source": []
  },
  {
   "cell_type": "code",
   "execution_count": null,
   "id": "electronic-theme",
   "metadata": {},
   "outputs": [],
   "source": []
  }
 ],
 "metadata": {
  "kernelspec": {
   "display_name": "Python 3 (ipykernel)",
   "language": "python",
   "name": "python3"
  },
  "language_info": {
   "codemirror_mode": {
    "name": "ipython",
    "version": 3
   },
   "file_extension": ".py",
   "mimetype": "text/x-python",
   "name": "python",
   "nbconvert_exporter": "python",
   "pygments_lexer": "ipython3",
   "version": "3.10.0"
  }
 },
 "nbformat": 4,
 "nbformat_minor": 5
}

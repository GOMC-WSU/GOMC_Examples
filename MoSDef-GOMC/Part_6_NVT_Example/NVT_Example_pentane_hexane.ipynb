{
 "cells": [
  {
   "cell_type": "markdown",
   "id": "optical-evolution",
   "metadata": {},
   "source": [
    "# GOMC Example for the NVT Ensemble using MoSDeF [1, 2, 5-10, 13-17]\n"
   ]
  },
  {
   "cell_type": "markdown",
   "id": "working-singer",
   "metadata": {},
   "source": [
    "## Import the required packages and specify the force field (FF), box dimensions, density, and mol ratios [1, 2, 5-10, 13-17]. "
   ]
  },
  {
   "cell_type": "code",
   "execution_count": 26,
   "id": "structured-depression",
   "metadata": {},
   "outputs": [
    {
     "name": "stderr",
     "output_type": "stream",
     "text": [
      "/Users/brad/Programs/anaconda3/envs/GOMC_MOSDEF/lib/python3.9/site-packages/ipykernel/ipkernel.py:283: DeprecationWarning: `should_run_async` will not call `transform_cell` automatically in the future. Please pass the result to `transformed_cell` argument and any exception that happen during thetransform in `preprocessing_exc_tuple` in IPython 7.17 and above.\n",
      "  and should_run_async(code)\n"
     ]
    }
   ],
   "source": [
    "import mbuild as mb\n",
    "import mbuild.formats.charmm_writer as mf_charmm\n",
    "import mbuild.formats.gomc_conf_writer as gomc_control\n",
    "\n",
    "FF_to_use = 'trappe-ua'\n",
    "\n",
    "liquid_box_length_Ang = 45\n",
    "liquid_box_density_kg_per_m_cubed = 642\n",
    "\n",
    "pentane_mol_ratio = 0.5\n",
    "hexane_mol_ratio = 0.5"
   ]
  },
  {
   "cell_type": "markdown",
   "id": "traditional-vocabulary",
   "metadata": {},
   "source": [
    "# Create the pentane and hexane molecules with residue names and minimize their structures [1, 2, 13-17]¶.  \n",
    "\n",
    "# Generate the lists for the molecules, residues, and mol ratios,  residues/molecules force fields [1, 2, 13-17].  \n",
    "\n",
    "## Note: For GOMC, the residue names are treated as molecules, so the residue names must be unique for each different molecule [1, 2, 13-17]."
   ]
  },
  {
   "cell_type": "code",
   "execution_count": 27,
   "id": "future-walker",
   "metadata": {},
   "outputs": [
    {
     "name": "stderr",
     "output_type": "stream",
     "text": [
      "/Users/brad/Programs/anaconda3/envs/GOMC_MOSDEF/lib/python3.9/site-packages/ipykernel/ipkernel.py:283: DeprecationWarning: `should_run_async` will not call `transform_cell` automatically in the future. Please pass the result to `transformed_cell` argument and any exception that happen during thetransform in `preprocessing_exc_tuple` in IPython 7.17 and above.\n",
      "  and should_run_async(code)\n",
      "/Users/brad/Programs/anaconda3/envs/GOMC_MOSDEF/lib/python3.9/site-packages/foyer/forcefield.py:472: UserWarning: Non-atomistic element type detected. Creating custom element for _CH4\n",
      "  warnings.warn('Non-atomistic element type detected. '\n",
      "/Users/brad/Programs/anaconda3/envs/GOMC_MOSDEF/lib/python3.9/site-packages/foyer/forcefield.py:472: UserWarning: Non-atomistic element type detected. Creating custom element for _CH3\n",
      "  warnings.warn('Non-atomistic element type detected. '\n",
      "/Users/brad/Programs/anaconda3/envs/GOMC_MOSDEF/lib/python3.9/site-packages/foyer/forcefield.py:472: UserWarning: Non-atomistic element type detected. Creating custom element for _CH2\n",
      "  warnings.warn('Non-atomistic element type detected. '\n",
      "/Users/brad/Programs/anaconda3/envs/GOMC_MOSDEF/lib/python3.9/site-packages/foyer/forcefield.py:472: UserWarning: Non-atomistic element type detected. Creating custom element for _HC\n",
      "  warnings.warn('Non-atomistic element type detected. '\n",
      "/Users/brad/Programs/anaconda3/envs/GOMC_MOSDEF/lib/python3.9/site-packages/foyer/forcefield.py:448: UserWarning: No force field version number found in force field XML file.\n",
      "  warnings.warn(\n",
      "/Users/brad/Programs/anaconda3/envs/GOMC_MOSDEF/lib/python3.9/site-packages/foyer/forcefield.py:460: UserWarning: No force field name found in force field XML file.\n",
      "  warnings.warn(\n",
      "/Users/brad/Programs/anaconda3/envs/GOMC_MOSDEF/lib/python3.9/site-packages/mbuild/compound.py:1642: UserWarning: OpenMM Force CustomNonbondedForce is not currently supported in _energy_minimize_openmm. This Force will not be updated!\n",
      "  warn(\n",
      "/Users/brad/Programs/anaconda3/envs/GOMC_MOSDEF/lib/python3.9/site-packages/foyer/forcefield.py:472: UserWarning: Non-atomistic element type detected. Creating custom element for _CH4\n",
      "  warnings.warn('Non-atomistic element type detected. '\n",
      "/Users/brad/Programs/anaconda3/envs/GOMC_MOSDEF/lib/python3.9/site-packages/foyer/forcefield.py:472: UserWarning: Non-atomistic element type detected. Creating custom element for _CH3\n",
      "  warnings.warn('Non-atomistic element type detected. '\n",
      "/Users/brad/Programs/anaconda3/envs/GOMC_MOSDEF/lib/python3.9/site-packages/foyer/forcefield.py:472: UserWarning: Non-atomistic element type detected. Creating custom element for _CH2\n",
      "  warnings.warn('Non-atomistic element type detected. '\n",
      "/Users/brad/Programs/anaconda3/envs/GOMC_MOSDEF/lib/python3.9/site-packages/foyer/forcefield.py:472: UserWarning: Non-atomistic element type detected. Creating custom element for _HC\n",
      "  warnings.warn('Non-atomistic element type detected. '\n",
      "/Users/brad/Programs/anaconda3/envs/GOMC_MOSDEF/lib/python3.9/site-packages/foyer/forcefield.py:448: UserWarning: No force field version number found in force field XML file.\n",
      "  warnings.warn(\n",
      "/Users/brad/Programs/anaconda3/envs/GOMC_MOSDEF/lib/python3.9/site-packages/foyer/forcefield.py:460: UserWarning: No force field name found in force field XML file.\n",
      "  warnings.warn(\n",
      "/Users/brad/Programs/anaconda3/envs/GOMC_MOSDEF/lib/python3.9/site-packages/mbuild/compound.py:1642: UserWarning: OpenMM Force CustomNonbondedForce is not currently supported in _energy_minimize_openmm. This Force will not be updated!\n",
      "  warn(\n"
     ]
    }
   ],
   "source": [
    "pentane = mb.load('../common/pentane.mol2')\n",
    "pentane.name = 'PEN'\n",
    "pentane.energy_minimize(forcefield=FF_to_use , steps=10**5)\n",
    "\n",
    "\n",
    "hexane = mb.load('../common/hexane.mol2')\n",
    "hexane.name = 'HEX'\n",
    "hexane.energy_minimize(forcefield=FF_to_use , steps=10**5)\n",
    "\n",
    "\n",
    "molecule_list = [pentane, hexane]\n",
    "residues_list = [pentane.name, hexane.name]\n",
    "mol_ratio_list = [pentane_mol_ratio, hexane_mol_ratio]"
   ]
  },
  {
   "cell_type": "markdown",
   "id": "operational-blackjack",
   "metadata": {},
   "source": [
    "## Build the main liquid simulation box (box 0) for the simulation [1, 2, 13-17]"
   ]
  },
  {
   "cell_type": "code",
   "execution_count": 28,
   "id": "unsigned-inspiration",
   "metadata": {},
   "outputs": [
    {
     "name": "stderr",
     "output_type": "stream",
     "text": [
      "/Users/brad/Programs/anaconda3/envs/GOMC_MOSDEF/lib/python3.9/site-packages/ipykernel/ipkernel.py:283: DeprecationWarning: `should_run_async` will not call `transform_cell` automatically in the future. Please pass the result to `transformed_cell` argument and any exception that happen during thetransform in `preprocessing_exc_tuple` in IPython 7.17 and above.\n",
      "  and should_run_async(code)\n",
      "/Users/brad/Programs/anaconda3/envs/GOMC_MOSDEF/lib/python3.9/site-packages/mbuild/formats/xyz.py:63: UserWarning: No matching element found for _CH; the particle will be added to the compound without an element attribute.\n",
      "  warn(\n"
     ]
    }
   ],
   "source": [
    "pentane_hexane_box_liq = mb.fill_box(compound=molecule_list,\n",
    "                                     density=liquid_box_density_kg_per_m_cubed,\n",
    "                                     compound_ratio=mol_ratio_list,\n",
    "                                     box=[liquid_box_length_Ang / 10,\n",
    "                                          liquid_box_length_Ang / 10,\n",
    "                                          liquid_box_length_Ang / 10]\n",
    "                                     )"
   ]
  },
  {
   "cell_type": "markdown",
   "id": "raising-imaging",
   "metadata": {},
   "source": [
    "## Build the Charmm object, which is required to write the FF (.inp), psf, pdb, and GOMC control files [1, 2, 5-10, 13-17]"
   ]
  },
  {
   "cell_type": "code",
   "execution_count": 29,
   "id": "passive-bracket",
   "metadata": {},
   "outputs": [
    {
     "name": "stderr",
     "output_type": "stream",
     "text": [
      "/Users/brad/Programs/anaconda3/envs/GOMC_MOSDEF/lib/python3.9/site-packages/ipykernel/ipkernel.py:283: DeprecationWarning: `should_run_async` will not call `transform_cell` automatically in the future. Please pass the result to `transformed_cell` argument and any exception that happen during thetransform in `preprocessing_exc_tuple` in IPython 7.17 and above.\n",
      "  and should_run_async(code)\n"
     ]
    },
    {
     "name": "stdout",
     "output_type": "stream",
     "text": [
      "write_gomcdata: forcefield_selection = trappe-ua, residues = ['PEN', 'HEX']\n",
      "FF forcefield_selection = {'PEN': 'trappe-ua', 'HEX': 'trappe-ua'}\n",
      "******************************\n",
      "\n",
      "GOMC FF writing each residues FF as a group for structure_box_0\n",
      "forcefield_selection = {'PEN': 'trappe-ua', 'HEX': 'trappe-ua'}\n",
      "forcefield type from compound = {'PEN': 'trappe-ua', 'HEX': 'trappe-ua'}\n",
      "coulomb14scale from compound = {'PEN': 0.0, 'HEX': 0.0}\n",
      "lj14scale from compound = {'PEN': 0.0, 'HEX': 0.0}\n",
      "all_res_unique_atom_name_dict = {'PEN': ['BD1', 'BD2', 'BD3', 'BD4', 'BD5'], 'HEX': ['BD1', 'BD2', 'BD3', 'BD4', 'BD5', 'BD6']}\n"
     ]
    },
    {
     "name": "stderr",
     "output_type": "stream",
     "text": [
      "/Users/brad/Programs/anaconda3/envs/GOMC_MOSDEF/lib/python3.9/site-packages/mbuild/formats/charmm_writer.py:836: UserWarning: NOTE: All bead names were not found in the Bead to atom naming dictionary (bead_to_atom_name_dict) \n",
      "  warn(\"NOTE: All bead names were not found in the Bead to atom naming dictionary (bead_to_atom_name_dict) \")\n"
     ]
    }
   ],
   "source": [
    "charmm = mf_charmm.Charmm(pentane_hexane_box_liq,\n",
    "                          'NVT_pentane_hexane_liq',\n",
    "                          ff_filename=\"NVT_pentane_hexane_FF\",\n",
    "                          forcefield_selection=FF_to_use,\n",
    "                          residues= residues_list,\n",
    "                          )"
   ]
  },
  {
   "cell_type": "markdown",
   "id": "sorted-possession",
   "metadata": {},
   "source": [
    "## Write the write the FF (.inp), psf, pdb, and GOMC control files [1, 2, 5-10, 13-17]\n",
    "\n",
    "### Note:  The electrostatics and Ewald are turned off in the GOMC control file (i.e., False) since the n-alkanes beads in the trappe-ua force field have no charge (i.e., the bead charges are all zero)"
   ]
  },
  {
   "cell_type": "code",
   "execution_count": 30,
   "id": "recovered-gossip",
   "metadata": {},
   "outputs": [
    {
     "name": "stderr",
     "output_type": "stream",
     "text": [
      "/Users/brad/Programs/anaconda3/envs/GOMC_MOSDEF/lib/python3.9/site-packages/ipykernel/ipkernel.py:283: DeprecationWarning: `should_run_async` will not call `transform_cell` automatically in the future. Please pass the result to `transformed_cell` argument and any exception that happen during thetransform in `preprocessing_exc_tuple` in IPython 7.17 and above.\n",
      "  and should_run_async(code)\n"
     ]
    },
    {
     "name": "stdout",
     "output_type": "stream",
     "text": [
      "******************************\n",
      "\n",
      "The charmm force field file writer (the write_inp function) is running\n",
      "******************************\n",
      "\n",
      "The charmm force field file writer (the write_inp function) is running\n",
      "******************************\n",
      "\n",
      "writing the GOMC force field file \n",
      "No urey bradley terms detected, will use angle_style harmonic\n",
      "will use CHARMM_torsions  =  K0 + K1 * (1 + Cos[n1*(t) - (d1)] ) + K2 * (1 + Cos[n2*(t) - (d2)] ) + K3 * (1 + Cos[n3*(t) - (d3)] ) + K4 * (1 + Cos[n4*(t) - (d4)] ) + K5 * (1 + Cos[n5*(t) - (d5)] ) \n",
      "! RB-torsion to CHARMM dihedral conversion error is OK [error <= 10^(-10)]\n",
      "! Maximum( |(RB-torsion calc)-(CHARMM dihedral calc)| ) =  1.2878587085651816e-14\n",
      "\n",
      "NBFIX_Mixing not used or no mixing used for the non-bonded potentials out\n",
      "self.non_bonded_type = LJ\n",
      "forcefield_dict = {3: 'CH3_sp3_PEN', 1: 'CH2_sp3_PEN', 2: 'CH3_sp3_HEX', 0: 'CH2_sp3_HEX'}\n",
      "******************************\n",
      "\n",
      "The charmm X-plor format psf writer (the write_psf function) is running\n",
      "write_psf: forcefield_selection = {'PEN': 'trappe-ua', 'HEX': 'trappe-ua'}, residues = ['PEN', 'HEX']\n",
      "******************************\n",
      "\n",
      "No urey bradley terms detected\n",
      "RB Torsions detected, will converted to CHARMM Dihedrals\n",
      "bead_to_atom_name_dict = None\n",
      "******************************\n",
      "\n",
      "The charmm pdb writer (the write_pdb function) is running\n",
      "write_charmm_pdb: residues == ['PEN', 'HEX']\n",
      "fix_residue = None\n",
      "fix_residue_in_box = None\n",
      "bead_to_atom_name_dict = None\n",
      "INFORMATION: No atoms are fixed in this pdb file for the GOMC simulation engine. \n",
      "******************************\n",
      "\n",
      "INFO: ensemble_type = NVT\n",
      "INFO: All the ensemble (ensemble_type) input passed the intial error checking\n",
      "INFO: All the Temperature  (Temperature) input passed the initial error checking\n",
      "INFO: All the required force field, pdb, and psf files for box 0 and 1 (.inp, .pdb, and .psf) all passed the intial error checking. Note: the file names and their existance is not confirmed.\n",
      "INFO: All the input variable passed the intial error checking\n",
      "INFO: The sum of the Monte Carlo move ratios = 1.000000000000\n",
      "INFO: the correct extension for the control file was provided in the file name, .conf with control file name = in_NVT.conf\n"
     ]
    },
    {
     "data": {
      "text/plain": [
       "'GOMC_CONTROL_FILE_WRITTEN'"
      ]
     },
     "execution_count": 30,
     "metadata": {},
     "output_type": "execute_result"
    }
   ],
   "source": [
    "charmm.write_inp()\n",
    "\n",
    "charmm.write_psf()\n",
    "\n",
    "charmm.write_pdb()\n",
    "\n",
    "\n",
    "gomc_control.write_gomc_control_file(charmm, 'in_NVT.conf',  'NVT', 100, 300,\n",
    "                                     input_variables_dict={\"ElectroStatic\": False,\n",
    "                                                           \"Ewald\": False,\n",
    "                                                           }\n",
    "                                     )"
   ]
  },
  {
   "cell_type": "code",
   "execution_count": null,
   "id": "destroyed-investment",
   "metadata": {},
   "outputs": [],
   "source": []
  },
  {
   "cell_type": "code",
   "execution_count": null,
   "id": "electronic-theme",
   "metadata": {},
   "outputs": [],
   "source": []
  }
 ],
 "metadata": {
  "kernelspec": {
   "display_name": "Python 3",
   "language": "python",
   "name": "python3"
  },
  "language_info": {
   "codemirror_mode": {
    "name": "ipython",
    "version": 3
   },
   "file_extension": ".py",
   "mimetype": "text/x-python",
   "name": "python",
   "nbconvert_exporter": "python",
   "pygments_lexer": "ipython3",
   "version": "3.9.1"
  }
 },
 "nbformat": 4,
 "nbformat_minor": 5
}

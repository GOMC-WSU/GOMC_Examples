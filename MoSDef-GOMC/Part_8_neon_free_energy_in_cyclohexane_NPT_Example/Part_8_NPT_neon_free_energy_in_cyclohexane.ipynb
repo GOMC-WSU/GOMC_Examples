{
 "cells": [
  {
   "cell_type": "markdown",
   "id": "optical-evolution",
   "metadata": {},
   "source": [
    "# GOMC Example for calculating the free energy of neon in cyclohexane with the NPT Ensemble via MoSDeF [1, 2, 5-10, 13-17]\n"
   ]
  },
  {
   "cell_type": "markdown",
   "id": "working-singer",
   "metadata": {},
   "source": [
    "## # Import the required packages and specify the box dimensions and number of molecules. [1, 2, 5-10, 13-17].\n",
    "## NOTE: Only 1 neon is used to do the free energy calculation of neon in cyclohexane"
   ]
  },
  {
   "cell_type": "code",
   "execution_count": null,
   "id": "structured-depression",
   "metadata": {},
   "outputs": [],
   "source": [
    "import mbuild as mb\n",
    "from foyer import Forcefield\n",
    "import mbuild.formats.charmm_writer as mf_charmm\n",
    "import mbuild.formats.gomc_conf_writer as gomc_control\n",
    "\n",
    "Liquid_box_length_Ang = 38.0\n",
    "\n",
    "liquid_box_neon_molecules = 1\n",
    "liquid_box_cyclohexane_molecules = 300"
   ]
  },
  {
   "cell_type": "markdown",
   "id": "traditional-vocabulary",
   "metadata": {},
   "source": [
    "## Create the neon and cyclohexane with residue names [1, 2, 13-17].\n",
    "\n",
    "## Generate the list for the molecules and residues.\n",
    "\n",
    "# Make the dictionaries to customize the bead's atoms names, and set the residues/molecules force fields [1, 2, 13-17].\n",
    "\n",
    "## Note: For GOMC, the residue names are treated as molecules, so the residue names must be unique for each different molecule [1, 2, 13-17]. The force field (FF) dictionary (forcefield_files variable) can set each residue with a different FF, by the FF name (via the foyer FF repository) or a specified FF xml file [1, 2, 13-17]."
   ]
  },
  {
   "cell_type": "code",
   "execution_count": null,
   "id": "future-walker",
   "metadata": {},
   "outputs": [],
   "source": [
    "forcefield_files_neon = '../common/neon_LB_mixing.xml'\n",
    "neon = mb.Compound(name=\"Ne\")\n",
    "\n",
    "forcefield_files_cyclohexane = '../common/cyclohexane-ua.xml'\n",
    "cyclohexane = mb.load('../common/cyclohexane-ua.mol2')\n",
    "cyclohexane.name = 'CHX'\n",
    "\n",
    "Molecule_Type_list = [neon, cyclohexane]\n",
    "Molecules_of_each_type_Liquid_list = [int(liquid_box_neon_molecules),\n",
    "                                      int(liquid_box_cyclohexane_molecules)\n",
    "                                      ]\n",
    "\n",
    "Molecule_ResName_list = [neon.name, cyclohexane.name]\n",
    "\n",
    "Bead_to_atom_name_dict = { '_CH2': 'C'}\n",
    "\n",
    "forcefield_files = {neon.name: forcefield_files_neon,\n",
    "                    cyclohexane.name: forcefield_files_cyclohexane\n",
    "                    }"
   ]
  },
  {
   "cell_type": "markdown",
   "id": "operational-blackjack",
   "metadata": {},
   "source": [
    "## Build the main liquid simulation box (box 0) for the simulation [1, 2, 13-17]."
   ]
  },
  {
   "cell_type": "code",
   "execution_count": null,
   "id": "unsigned-inspiration",
   "metadata": {},
   "outputs": [],
   "source": [
    "box_liq = mb.fill_box(compound=Molecule_Type_list,\n",
    "                      n_compounds=Molecules_of_each_type_Liquid_list,\n",
    "                      box=[Liquid_box_length_Ang/10,\n",
    "                           Liquid_box_length_Ang/10,\n",
    "                           Liquid_box_length_Ang/10])"
   ]
  },
  {
   "cell_type": "markdown",
   "id": "raising-imaging",
   "metadata": {},
   "source": [
    "## Build the Charmm object, which is required to write the FF (.inp), psf, pdb, and GOMC control files and write the write the FF (.inp), psf, pdb, and GOMC control files [1, 2, 5-10, 13-17]"
   ]
  },
  {
   "cell_type": "code",
   "execution_count": null,
   "id": "passive-bracket",
   "metadata": {
    "scrolled": true
   },
   "outputs": [],
   "source": [
    "charmm = mf_charmm.Charmm(box_liq,\n",
    "                          'NPT_neon_cyclohexane_liq',\n",
    "                          structure_box_1=None,\n",
    "                          filename_box_1=None,\n",
    "                          ff_filename =\"NPT_neon_cyclohexane_FF\",\n",
    "                          forcefield_selection=forcefield_files,\n",
    "                          residues=Molecule_ResName_list,\n",
    "                          bead_to_atom_name_dict=Bead_to_atom_name_dict,\n",
    "                          gomc_fix_bonds_angles=None,\n",
    "                         )\n",
    "\n",
    "charmm.write_inp()\n",
    "\n",
    "charmm.write_psf()\n",
    "\n",
    "charmm.write_pdb()"
   ]
  },
  {
   "cell_type": "markdown",
   "id": "sorted-possession",
   "metadata": {},
   "source": [
    "## In this Example, six (6) separate GOMC simulaitons are needed to calculate the free energy, one (1) for each of the six (6) lambda states (0.0, 0.2, 0.4, 0.6, 0.8, 1). Therefore, 6 separate GOMC files need written, one for each of the six lambda states 0 to 5.\n",
    "\n",
    "## NOTE: The actual free energy simulation will need to be run longer, as this is just a quick example.\n",
    "\n",
    "## NOTE: Depending on the exact system, more or less lambda states may be required to get accurate results."
   ]
  },
  {
   "cell_type": "markdown",
   "id": "b1cdd866",
   "metadata": {},
   "source": [
    "## Set the variables that will be used for all the lambda states\n",
    "\n"
   ]
  },
  {
   "cell_type": "code",
   "execution_count": null,
   "id": "0ef04801",
   "metadata": {},
   "outputs": [],
   "source": [
    "Rcut = 15\n",
    "Pressure = 1.01325\n",
    "CBMC_First = 12\n",
    "CBMC_Nth = 10\n",
    "CBMC_Ang = 50\n",
    "CBMC_Dih = 50\n",
    "FreeEnergyCalc = [True, 1000]\n",
    "MoleculeType = [neon.name, 1]\n",
    "lambda_states =[0.0, 0.2, 0.4, 0.6, 0.8, 1.0]\n",
    "\n",
    "simulation_temp = 300\n",
    "simulation_steps = 10000"
   ]
  },
  {
   "cell_type": "markdown",
   "id": "25de31d6",
   "metadata": {},
   "source": [
    "## The GOMC control file for lambda state 0 (InitialState=0)."
   ]
  },
  {
   "cell_type": "code",
   "execution_count": null,
   "id": "611108de",
   "metadata": {},
   "outputs": [],
   "source": [
    "gomc_control.write_gomc_control_file(charmm, 'in_NPT_lambda_number_0.conf', 'NPT', simulation_steps, simulation_temp,\n",
    "                                     input_variables_dict={\n",
    "                                         \"Rcut\": Rcut,\n",
    "                                         \"Pressure\": Pressure,\n",
    "                                         \"CBMC_First\": CBMC_First,\n",
    "                                         \"CBMC_Nth\": CBMC_Nth,\n",
    "                                         \"CBMC_Ang\": CBMC_Ang,\n",
    "                                         \"CBMC_Dih\": CBMC_Dih,\n",
    "                                         \"FreeEnergyCalc\": FreeEnergyCalc,\n",
    "                                         \"MoleculeType\": MoleculeType,\n",
    "                                         \"LambdaVDW\": lambda_states,\n",
    "                                         \"InitialState\": 0,\n",
    "                                         \"OutputName\": \"out_NPT_lambda_number_0\"\n",
    "                                     }\n",
    "                                     )"
   ]
  },
  {
   "cell_type": "markdown",
   "id": "cdacd4e9",
   "metadata": {},
   "source": [
    "## The GOMC control file for lambda state 1 (InitialState=1)."
   ]
  },
  {
   "cell_type": "code",
   "execution_count": null,
   "id": "0061ecff",
   "metadata": {},
   "outputs": [],
   "source": [
    "gomc_control.write_gomc_control_file(charmm, 'in_NPT_lambda_number_1.conf', 'NPT', simulation_steps, simulation_temp,\n",
    "                                     input_variables_dict={\n",
    "                                         \"Rcut\": Rcut,\n",
    "                                         \"Pressure\": Pressure,\n",
    "                                         \"CBMC_First\": CBMC_First,\n",
    "                                         \"CBMC_Nth\": CBMC_Nth,\n",
    "                                         \"CBMC_Ang\": CBMC_Ang,\n",
    "                                         \"CBMC_Dih\": CBMC_Dih,\n",
    "                                         \"FreeEnergyCalc\": FreeEnergyCalc,\n",
    "                                         \"MoleculeType\": MoleculeType,\n",
    "                                         \"LambdaVDW\": lambda_states,\n",
    "                                         \"InitialState\": 1,\n",
    "                                         \"OutputName\": \"out_NPT_lambda_number_1\"\n",
    "                                     }\n",
    "                                     )"
   ]
  },
  {
   "cell_type": "markdown",
   "id": "82caa322",
   "metadata": {},
   "source": [
    "## The GOMC control file for lambda state 2 (InitialState=2)."
   ]
  },
  {
   "cell_type": "code",
   "execution_count": null,
   "id": "04e434c6",
   "metadata": {},
   "outputs": [],
   "source": [
    "gomc_control.write_gomc_control_file(charmm, 'in_NPT_lambda_number_2.conf', 'NPT', simulation_steps, simulation_temp,\n",
    "                                     input_variables_dict={\n",
    "                                         \"Rcut\": Rcut,\n",
    "                                         \"Pressure\": Pressure,\n",
    "                                         \"CBMC_First\": CBMC_First,\n",
    "                                         \"CBMC_Nth\": CBMC_Nth,\n",
    "                                         \"CBMC_Ang\": CBMC_Ang,\n",
    "                                         \"CBMC_Dih\": CBMC_Dih,\n",
    "                                         \"FreeEnergyCalc\": FreeEnergyCalc,\n",
    "                                         \"MoleculeType\": MoleculeType,\n",
    "                                         \"LambdaVDW\": lambda_states,\n",
    "                                         \"InitialState\": 2,\n",
    "                                         \"OutputName\": \"out_NPT_lambda_number_2\"\n",
    "                                     }\n",
    "                                     )"
   ]
  },
  {
   "cell_type": "markdown",
   "id": "dbb63c29",
   "metadata": {},
   "source": [
    "## The GOMC control file for lambda state 3 (InitialState=3)."
   ]
  },
  {
   "cell_type": "code",
   "execution_count": null,
   "id": "60d46d6a",
   "metadata": {},
   "outputs": [],
   "source": [
    "gomc_control.write_gomc_control_file(charmm, 'in_NPT_lambda_number_3.conf', 'NPT', simulation_steps, simulation_temp,\n",
    "                                     input_variables_dict={\n",
    "                                         \"Rcut\": Rcut,\n",
    "                                         \"Pressure\": Pressure,\n",
    "                                         \"CBMC_First\": CBMC_First,\n",
    "                                         \"CBMC_Nth\": CBMC_Nth,\n",
    "                                         \"CBMC_Ang\": CBMC_Ang,\n",
    "                                         \"CBMC_Dih\": CBMC_Dih,\n",
    "                                         \"FreeEnergyCalc\": FreeEnergyCalc,\n",
    "                                         \"MoleculeType\": MoleculeType,\n",
    "                                         \"LambdaVDW\": lambda_states,\n",
    "                                         \"InitialState\": 3,\n",
    "                                         \"OutputName\": \"out_NPT_lambda_number_3\"\n",
    "                                     }\n",
    "                                     )"
   ]
  },
  {
   "cell_type": "markdown",
   "id": "e62e023a",
   "metadata": {},
   "source": [
    "## The GOMC control file for lambda state 4 (InitialState=4)."
   ]
  },
  {
   "cell_type": "code",
   "execution_count": null,
   "id": "38d875d6",
   "metadata": {},
   "outputs": [],
   "source": [
    "gomc_control.write_gomc_control_file(charmm, 'in_NPT_lambda_number_4.conf', 'NPT', simulation_steps, simulation_temp,\n",
    "                                     input_variables_dict={\n",
    "                                         \"Rcut\": Rcut,\n",
    "                                         \"Pressure\": Pressure,\n",
    "                                         \"CBMC_First\": CBMC_First,\n",
    "                                         \"CBMC_Nth\": CBMC_Nth,\n",
    "                                         \"CBMC_Ang\": CBMC_Ang,\n",
    "                                         \"CBMC_Dih\": CBMC_Dih,\n",
    "                                         \"FreeEnergyCalc\": FreeEnergyCalc,\n",
    "                                         \"MoleculeType\": MoleculeType,\n",
    "                                         \"LambdaVDW\": lambda_states,\n",
    "                                         \"InitialState\": 4,\n",
    "                                         \"OutputName\": \"out_NPT_lambda_number_4\"\n",
    "                                     }\n",
    "                                     )"
   ]
  },
  {
   "cell_type": "markdown",
   "id": "a7c0f12f",
   "metadata": {},
   "source": [
    "## The GOMC control file for lambda state 5 (InitialState=5)."
   ]
  },
  {
   "cell_type": "code",
   "execution_count": null,
   "id": "11567d64",
   "metadata": {},
   "outputs": [],
   "source": [
    "gomc_control.write_gomc_control_file(charmm, 'in_NPT_lambda_number_5.conf', 'NPT', simulation_steps, simulation_temp,\n",
    "                                     input_variables_dict={\n",
    "                                         \"Rcut\": Rcut,\n",
    "                                         \"Pressure\": Pressure,\n",
    "                                         \"CBMC_First\": CBMC_First,\n",
    "                                         \"CBMC_Nth\": CBMC_Nth,\n",
    "                                         \"CBMC_Ang\": CBMC_Ang,\n",
    "                                         \"CBMC_Dih\": CBMC_Dih,\n",
    "                                         \"FreeEnergyCalc\": FreeEnergyCalc,\n",
    "                                         \"MoleculeType\": MoleculeType,\n",
    "                                         \"LambdaVDW\": lambda_states,\n",
    "                                         \"InitialState\": 5,\n",
    "                                         \"OutputName\": \"out_NPT_lambda_number_5\"\n",
    "                                     }\n",
    "                                     )"
   ]
  }
 ],
 "metadata": {
  "kernelspec": {
   "display_name": "Python 3 (ipykernel)",
   "language": "python",
   "name": "python3"
  },
  "language_info": {
   "codemirror_mode": {
    "name": "ipython",
    "version": 3
   },
   "file_extension": ".py",
   "mimetype": "text/x-python",
   "name": "python",
   "nbconvert_exporter": "python",
   "pygments_lexer": "ipython3",
   "version": "3.8.12"
  }
 },
 "nbformat": 4,
 "nbformat_minor": 5
}

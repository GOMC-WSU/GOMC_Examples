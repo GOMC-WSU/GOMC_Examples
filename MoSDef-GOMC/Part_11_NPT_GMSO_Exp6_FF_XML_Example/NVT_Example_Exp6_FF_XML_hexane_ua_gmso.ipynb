{
 "cells": [
  {
   "cell_type": "markdown",
   "id": "working-singer",
   "metadata": {
    "jp-MarkdownHeadingCollapsed": true
   },
   "source": [
    "# GOMC Example the Exp6 FF GMSO version NVT Ensemble using MoSDeF [1, 2, 5-10, 13-17]"
   ]
  },
  {
   "cell_type": "markdown",
   "id": "optical-evolution",
   "metadata": {},
   "source": [
    "# Import the required packages and specify the force field (FF),\n",
    "# box dimensions, density, and mol ratios [1, 2, 5-10, 13-17]."
   ]
  },
  {
   "cell_type": "code",
   "execution_count": null,
   "id": "structured-depression",
   "metadata": {},
   "outputs": [],
   "source": [
    "import mbuild as mb\n",
    "import unyt as u\n",
    "import mosdef_gomc.formats.gmso_charmm_writer as mf_charmm\n",
    "import mosdef_gomc.formats.gmso_gomc_conf_writer as gomc_control\n",
    "\n",
    "\n",
    "FF_to_use = '../common/gmso_hexane_Exp6_periodic_dihedral_ua_K_energy_units.xml'\n",
    "\n",
    "liquid_box_length_Ang = 45\n",
    "liquid_box_density_kg_per_m_cubed = 642"
   ]
  },
  {
   "cell_type": "markdown",
   "id": "traditional-vocabulary",
   "metadata": {},
   "source": [
    "# Create the hexane molecule with residue names\n",
    "\n",
    "# Generate the lists for the molecule, residue, and residues/molecules force fields [1, 2, 13-17].  \n",
    "\n",
    "## Note: For GOMC, the residue names are treated as molecules, so the residue names must be unique for each different molecule [1, 2, 13-17].\n",
    "\n",
    "## Note: When importing mol2 files, the residue names (hexane.name) must be the same name as in the mol2 file. "
   ]
  },
  {
   "cell_type": "code",
   "execution_count": null,
   "id": "future-walker",
   "metadata": {},
   "outputs": [],
   "source": [
    "hexane = mb.load('../common/hexane.mol2')\n",
    "hexane.name = 'HEX'\n",
    "\n",
    "molecule_list = [hexane]\n",
    "residues_list = [hexane.name]"
   ]
  },
  {
   "cell_type": "markdown",
   "id": "operational-blackjack",
   "metadata": {},
   "source": [
    "## Build the main liquid simulation box (box 0) for the simulation [1, 2, 13-17]"
   ]
  },
  {
   "cell_type": "code",
   "execution_count": null,
   "id": "unsigned-inspiration",
   "metadata": {},
   "outputs": [],
   "source": [
    "hexane_box_liq = mb.fill_box(compound=molecule_list,\n",
    "                             density=liquid_box_density_kg_per_m_cubed,\n",
    "                             compound_ratio=[1],\n",
    "                             box=[\n",
    "                                 liquid_box_length_Ang / 10,\n",
    "                                 liquid_box_length_Ang / 10,\n",
    "                                 liquid_box_length_Ang / 10\n",
    "                                  ]\n",
    "                             )"
   ]
  },
  {
   "cell_type": "markdown",
   "id": "raising-imaging",
   "metadata": {},
   "source": [
    "## Build the Charmm object, which is required to write the FF (.inp), psf, pdb, and GOMC control files [1, 2, 5-10, 13-17]."
   ]
  },
  {
   "cell_type": "code",
   "execution_count": null,
   "id": "passive-bracket",
   "metadata": {},
   "outputs": [],
   "source": [
    "charmm = mf_charmm.Charmm(hexane_box_liq,\n",
    "                          'NVT_hexane_exp6_liq',\n",
    "                          ff_filename=\"NVT_hexane_exp6_FF\",\n",
    "                          forcefield_selection=FF_to_use,\n",
    "                          residues= residues_list,\n",
    "                          atom_type_naming_style=\"general\",\n",
    "                          )"
   ]
  },
  {
   "cell_type": "markdown",
   "id": "sorted-possession",
   "metadata": {},
   "source": [
    "## Write the write the FF (.inp), psf, pdb, and GOMC control files [1, 2, 5-10, 13-17]"
   ]
  },
  {
   "cell_type": "code",
   "execution_count": null,
   "id": "recovered-gossip",
   "metadata": {},
   "outputs": [],
   "source": [
    "charmm.write_inp()\n",
    "\n",
    "charmm.write_psf()\n",
    "\n",
    "charmm.write_pdb()\n",
    "\n",
    "\n",
    "gomc_control.write_gomc_control_file(charmm, 'in_NVT.conf',  'NVT', 100, 300 * u.Kelvin,\n",
    "                                     input_variables_dict={}\n",
    "                                     )"
   ]
  },
  {
   "cell_type": "code",
   "execution_count": null,
   "id": "af113896",
   "metadata": {},
   "outputs": [],
   "source": []
  },
  {
   "cell_type": "code",
   "execution_count": null,
   "id": "ce501ef4-faad-438e-9fd1-c721e48f9780",
   "metadata": {},
   "outputs": [],
   "source": []
  },
  {
   "cell_type": "code",
   "execution_count": null,
   "id": "3727f4d8-31a1-453a-820f-8b54829c35ce",
   "metadata": {},
   "outputs": [],
   "source": []
  }
 ],
 "metadata": {
  "kernelspec": {
   "display_name": "Python 3 (ipykernel)",
   "language": "python",
   "name": "python3"
  },
  "language_info": {
   "codemirror_mode": {
    "name": "ipython",
    "version": 3
   },
   "file_extension": ".py",
   "mimetype": "text/x-python",
   "name": "python",
   "nbconvert_exporter": "python",
   "pygments_lexer": "ipython3",
   "version": "3.10.0"
  }
 },
 "nbformat": 4,
 "nbformat_minor": 5
}

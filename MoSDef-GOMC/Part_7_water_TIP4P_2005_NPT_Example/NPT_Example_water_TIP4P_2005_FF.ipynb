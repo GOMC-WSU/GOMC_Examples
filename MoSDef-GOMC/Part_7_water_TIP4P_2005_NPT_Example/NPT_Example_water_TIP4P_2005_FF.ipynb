{
 "cells": [
  {
   "cell_type": "markdown",
   "id": "optical-evolution",
   "metadata": {},
   "source": [
    "# GOMC Example for the TIP4P-2005 water with the NPT Ensemble via MoSDeF [1, 2, 5-10, 13-17]¶\n"
   ]
  },
  {
   "cell_type": "markdown",
   "id": "working-singer",
   "metadata": {},
   "source": [
    "## Import the required packages and specify the box dimensions and number of molecules. [1, 2, 5-10, 13-17]. "
   ]
  },
  {
   "cell_type": "code",
   "execution_count": null,
   "id": "structured-depression",
   "metadata": {},
   "outputs": [],
   "source": [
    "import mbuild as mb\n",
    "from foyer import Forcefield\n",
    "import mbuild.formats.charmm_writer as mf_charmm\n",
    "import mbuild.formats.gomc_conf_writer as gomc_control\n",
    "\n",
    "Liquid_box_length_Ang = 32.1\n",
    "Liquid_box_Total_molecules = 1100"
   ]
  },
  {
   "cell_type": "markdown",
   "id": "traditional-vocabulary",
   "metadata": {},
   "source": [
    "# Create the TIP4P-2005 water with residue names [1, 2, 13-17]¶.  \n",
    "\n",
    "# Generate the list for the molecules and residues.  Make the dictionaries to customize the bead's atoms names, and set the residues/molecules force fields [1, 2, 13-17].  \n",
    "\n",
    "## Note: For GOMC, the residue names are treated as molecules, so the residue names must be unique for each different molecule [1, 2, 13-17]. The force field (FF) dictionary (forcefield_files variable) can set each residue with a different FF, by the FF name (via the foyer FF repository) or a specified FF xml file [1, 2, 13-17].\n",
    "\n",
    "## NOTE: The exact bond, angle, and configuration (i.e., a planar water) must be set in the .mol2 file [1, 2, 13-17]. When using a TIP4P water, minimizing the structure here could result in the lone pair being pushed in out of plane [1, 2, 13-17]. Therefore, if you need to minimize the sytem, we recommend minimizing it in an engine that takes that into consideration [1, 2, 13-17]."
   ]
  },
  {
   "cell_type": "code",
   "execution_count": null,
   "id": "future-walker",
   "metadata": {},
   "outputs": [],
   "source": [
    "forcefield_files_water = '../common/tip4p_2005_oplsaa.xml'\n",
    "water = mb.load('../common/tip4p_2005.mol2')\n",
    "water.name = 'H2O'\n",
    "\n",
    "Molecule_Type_list = [water]\n",
    "Molecules_of_each_type_Liquid_list = [int(Liquid_box_Total_molecules)]\n",
    "\n",
    "Molecule_ResName_list = [water.name]\n",
    "\n",
    "Bead_to_atom_name_dict = { '_LP':'LP'}\n",
    "\n",
    "forcefield_files = forcefield_files_water\n",
    "\n",
    "fixed_bonds_angles_list = [water.name]"
   ]
  },
  {
   "cell_type": "markdown",
   "id": "operational-blackjack",
   "metadata": {},
   "source": [
    "## Build the main liquid simulation box (box 0) for the simulation [1, 2, 13-17]"
   ]
  },
  {
   "cell_type": "code",
   "execution_count": null,
   "id": "unsigned-inspiration",
   "metadata": {},
   "outputs": [],
   "source": [
    "box_liq = mb.fill_box(compound=Molecule_Type_list,\n",
    "                      n_compounds=Molecules_of_each_type_Liquid_list,\n",
    "                      box=[Liquid_box_length_Ang/10,\n",
    "                           Liquid_box_length_Ang/10,\n",
    "                           Liquid_box_length_Ang/10])"
   ]
  },
  {
   "cell_type": "markdown",
   "id": "raising-imaging",
   "metadata": {},
   "source": [
    "## Build the Charmm object, which is required to write the FF (.inp), psf, pdb, and GOMC control files [1, 2, 5-10, 13-17]\n",
    "\n",
    "## NOTE: You must set the gomc_fix_bonds_angle for water or the angles will be off, and the lone pair may not stay in plane."
   ]
  },
  {
   "cell_type": "code",
   "execution_count": null,
   "id": "passive-bracket",
   "metadata": {},
   "outputs": [],
   "source": [
    "charmm = mf_charmm.Charmm(box_liq,\n",
    "                          'NPT_TIP4P_2005_water_liq',\n",
    "                          structure_box_1=None,\n",
    "                          filename_box_1=None,\n",
    "                          ff_filename =\"NPT_TIP4P_2005_water_FF\",\n",
    "                          forcefield_selection=forcefield_files,\n",
    "                          residues=Molecule_ResName_list,\n",
    "                          bead_to_atom_name_dict=Bead_to_atom_name_dict,\n",
    "                          gomc_fix_bonds_angles=fixed_bonds_angles_list,\n",
    "                         )"
   ]
  },
  {
   "cell_type": "markdown",
   "id": "sorted-possession",
   "metadata": {},
   "source": [
    "## Write the write the FF (.inp), psf, pdb, and GOMC control files [1, 2, 5-10, 13-17]"
   ]
  },
  {
   "cell_type": "code",
   "execution_count": null,
   "id": "recovered-gossip",
   "metadata": {},
   "outputs": [],
   "source": [
    "charmm.write_inp()\n",
    "\n",
    "charmm.write_psf()\n",
    "\n",
    "charmm.write_pdb()\n",
    "\n",
    "gomc_control.write_gomc_control_file(charmm, 'in_NPT.conf',  'NPT', 1000, 300,\n",
    "                                     input_variables_dict={\"Pressure\": 1.01325}\n",
    "                                     )"
   ]
  },
  {
   "cell_type": "code",
   "execution_count": null,
   "id": "destroyed-investment",
   "metadata": {},
   "outputs": [],
   "source": []
  },
  {
   "cell_type": "code",
   "execution_count": null,
   "id": "electronic-theme",
   "metadata": {},
   "outputs": [],
   "source": []
  }
 ],
 "metadata": {
  "kernelspec": {
   "display_name": "Python 3 (ipykernel)",
   "language": "python",
   "name": "python3"
  },
  "language_info": {
   "codemirror_mode": {
    "name": "ipython",
    "version": 3
   },
   "file_extension": ".py",
   "mimetype": "text/x-python",
   "name": "python",
   "nbconvert_exporter": "python",
   "pygments_lexer": "ipython3",
   "version": "3.8.12"
  }
 },
 "nbformat": 4,
 "nbformat_minor": 5
}

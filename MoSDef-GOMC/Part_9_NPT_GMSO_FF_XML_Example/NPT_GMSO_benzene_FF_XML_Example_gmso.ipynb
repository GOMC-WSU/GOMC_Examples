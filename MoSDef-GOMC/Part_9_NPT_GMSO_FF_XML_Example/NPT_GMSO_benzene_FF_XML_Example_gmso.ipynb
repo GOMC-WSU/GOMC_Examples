{
 "cells": [
  {
   "cell_type": "markdown",
   "id": "optical-evolution",
   "metadata": {},
   "source": [
    "# Benzene's NPT Ensemble using the GMSO FF XML style and the GAFF FF via MoSDeF [1, 2, 5-10, 13-17]\n",
    "\n",
    "## NOTE: This format will not work correctly for BENZENE using the GOMC engine because this GAFF FF for BENZENE uses impropers, and GOMC does not currently support impropers.  However, the GAFF FF for BENZENE can be used for the NAMD engine because NAMD does support impropers.  \n"
   ]
  },
  {
   "cell_type": "markdown",
   "id": "working-singer",
   "metadata": {},
   "source": [
    "# Import the required packages and specify the box dimensions, and number of molecules [1, 2, 5-10, 13-17]."
   ]
  },
  {
   "cell_type": "code",
   "execution_count": null,
   "id": "structured-depression",
   "metadata": {},
   "outputs": [],
   "source": [
    "import mbuild as mb\n",
    "import unyt as u\n",
    "import mosdef_gomc.formats.gmso_charmm_writer as mf_charmm\n",
    "import mosdef_gomc.formats.gmso_gomc_conf_writer as gomc_control\n",
    "\n",
    "Liquid_box_length_Ang = 42.17\n",
    "Liquid_box_Total_molecules = 400"
   ]
  },
  {
   "cell_type": "markdown",
   "id": "traditional-vocabulary",
   "metadata": {},
   "source": [
    "# Create the benzene molecules with a residue name [1, 2, 13-17].\n",
    "\n",
    "# Generate the list for the molecules, and residues.\n",
    "\n",
    "# Set the residue/molecule force field [1, 2, 13-17].\n",
    "\n",
    "## Note: For GOMC, the residue names are treated as molecules names, so the residue names must be unique for each different molecule [1, 2, 13-17]. The force field (FF) dictionary (forcefield_files variable) can set each residue with a different FF, by the FF name (via the foyer FF repository) or a specified FF xml file [1, 2, 13-17]. Here we are just entering FF as a string, which applies the FF to all molecules."
   ]
  },
  {
   "cell_type": "code",
   "execution_count": null,
   "id": "future-walker",
   "metadata": {},
   "outputs": [],
   "source": [
    "forcefield_files_benzene = '../common/gmso_benzene_GAFF.xml'\n",
    "benzene = mb.load('c1ccccc1', smiles=True)\n",
    "benzene.name = 'BEN'\n",
    "\n",
    "Molecule_Type_list = [benzene]\n",
    "\n",
    "Molecule_ResName_list = [benzene.name]"
   ]
  },
  {
   "cell_type": "markdown",
   "id": "operational-blackjack",
   "metadata": {},
   "source": [
    "## Build the main liquid simulation box (box 0) for the simulation [1, 2, 13-17]"
   ]
  },
  {
   "cell_type": "code",
   "execution_count": null,
   "id": "unsigned-inspiration",
   "metadata": {},
   "outputs": [],
   "source": [
    "box_liq = mb.fill_box(compound=Molecule_Type_list,\n",
    "                      n_compounds=Liquid_box_Total_molecules,\n",
    "                      box=[Liquid_box_length_Ang/10,\n",
    "                           Liquid_box_length_Ang/10,\n",
    "                           Liquid_box_length_Ang/10\n",
    "                          ]\n",
    "                     )"
   ]
  },
  {
   "cell_type": "markdown",
   "id": "raising-imaging",
   "metadata": {},
   "source": [
    "## Build the Charmm object, which is required to write the FF (.inp), psf, pdb, and GOMC control files [1, 2, 5-10, 13-17]"
   ]
  },
  {
   "cell_type": "code",
   "execution_count": null,
   "id": "passive-bracket",
   "metadata": {},
   "outputs": [],
   "source": [
    "charmm = mf_charmm.Charmm(box_liq,\n",
    "                          'NPT_benzene_liq',\n",
    "                          structure_box_1=None,\n",
    "                          filename_box_1=None,\n",
    "                          ff_filename =\"NPT_benzene_FF\" ,\n",
    "                          forcefield_selection=forcefield_files_benzene,\n",
    "                          residues=Molecule_ResName_list,\n",
    "                         )"
   ]
  },
  {
   "cell_type": "markdown",
   "id": "sorted-possession",
   "metadata": {},
   "source": [
    "## Write the write the FF (.inp), psf, pdb, and GOMC control files [1, 2, 5-10, 13-17]"
   ]
  },
  {
   "cell_type": "code",
   "execution_count": null,
   "id": "recovered-gossip",
   "metadata": {},
   "outputs": [],
   "source": [
    "charmm.write_inp()\n",
    "\n",
    "charmm.write_psf()\n",
    "\n",
    "charmm.write_pdb()\n",
    "\n",
    "\n",
    "gomc_control.write_gomc_control_file(charmm, 'in_NPT.conf',  'NPT', 100, 450 * u.Kelvin,\n",
    "                                     input_variables_dict={\"Pressure\": 22.30447 * u.atm}\n",
    "                                     )"
   ]
  },
  {
   "cell_type": "code",
   "execution_count": null,
   "id": "9c9d9068",
   "metadata": {},
   "outputs": [],
   "source": []
  }
 ],
 "metadata": {
  "kernelspec": {
   "display_name": "Python 3 (ipykernel)",
   "language": "python",
   "name": "python3"
  },
  "language_info": {
   "codemirror_mode": {
    "name": "ipython",
    "version": 3
   },
   "file_extension": ".py",
   "mimetype": "text/x-python",
   "name": "python",
   "nbconvert_exporter": "python",
   "pygments_lexer": "ipython3",
   "version": "3.8.13"
  }
 },
 "nbformat": 4,
 "nbformat_minor": 5
}

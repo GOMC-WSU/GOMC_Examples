{
 "cells": [
  {
   "cell_type": "markdown",
   "id": "optical-evolution",
   "metadata": {},
   "source": [
    "# GOMC Example for the Mie FF GMSO version NVT Ensemble using MoSDeF [1, 2, 5-10, 13-17]\n",
    "\n"
   ]
  },
  {
   "cell_type": "markdown",
   "id": "working-singer",
   "metadata": {},
   "source": [
    "## Import the required packages and specify the force field (FF), box dimensions, density, and mol ratios [1, 2, 5-10, 13-17]."
   ]
  },
  {
   "cell_type": "code",
   "execution_count": null,
   "id": "structured-depression",
   "metadata": {},
   "outputs": [],
   "source": [
    "import mbuild as mb\n",
    "import unyt as u\n",
    "import mosdef_gomc.formats.gmso_charmm_writer as mf_charmm\n",
    "import mosdef_gomc.formats.gmso_gomc_conf_writer as gomc_control\n",
    "\n",
    "FF_to_use = '../common/gmso_two_propanol_Mie_periodic_dihedral_ua_K_energy_units.xml'\n",
    "\n",
    "liquid_box_length_Ang = 45\n",
    "liquid_box_density_kg_per_m_cubed = 642"
   ]
  },
  {
   "cell_type": "markdown",
   "id": "traditional-vocabulary",
   "metadata": {},
   "source": [
    "# Create the two propanol molecule with residue names.\n",
    "\n",
    "# Generate the lists for the molecule, residue, and residues/molecules force fields [1, 2, 13-17].  \n",
    "\n",
    "## Note: For GOMC, the residue names are treated as molecules, so the residue names must be unique for each different molecule [1, 2, 13-17]."
   ]
  },
  {
   "cell_type": "code",
   "execution_count": null,
   "id": "future-walker",
   "metadata": {},
   "outputs": [],
   "source": [
    "two_propanol = mb.load('../common/two_propanol_ua.mol2')\n",
    "two_propanol.name = 'TPR'\n",
    "\n",
    "molecule_list = [two_propanol]\n",
    "residues_list = [two_propanol.name]"
   ]
  },
  {
   "cell_type": "markdown",
   "id": "operational-blackjack",
   "metadata": {},
   "source": [
    "## Build the main liquid simulation box (box 0) for the simulation [1, 2, 13-17]"
   ]
  },
  {
   "cell_type": "code",
   "execution_count": null,
   "id": "unsigned-inspiration",
   "metadata": {},
   "outputs": [],
   "source": [
    "two_propanol_box_liq = mb.fill_box(compound=molecule_list,\n",
    "                                     density=liquid_box_density_kg_per_m_cubed,\n",
    "                                     compound_ratio=[1],\n",
    "                                     box=[liquid_box_length_Ang / 10,\n",
    "                                          liquid_box_length_Ang / 10,\n",
    "                                          liquid_box_length_Ang / 10]\n",
    "                                     )"
   ]
  },
  {
   "cell_type": "markdown",
   "id": "raising-imaging",
   "metadata": {},
   "source": [
    "## Build the Charmm object, which is required to write the FF (.inp), psf, pdb, and GOMC control files [1, 2, 5-10, 13-17]."
   ]
  },
  {
   "cell_type": "code",
   "execution_count": null,
   "id": "passive-bracket",
   "metadata": {},
   "outputs": [],
   "source": [
    "charmm = mf_charmm.Charmm(two_propanol_box_liq,\n",
    "                          'NVT_two_propanol_liq',\n",
    "                          ff_filename=\"NVT_two_propanol_FF\",\n",
    "                          forcefield_selection=FF_to_use,\n",
    "                          residues= residues_list,\n",
    "                          )"
   ]
  },
  {
   "cell_type": "markdown",
   "id": "sorted-possession",
   "metadata": {},
   "source": [
    "## Write the write the FF (.inp), psf, pdb, and GOMC control files [1, 2, 5-10, 13-17]"
   ]
  },
  {
   "cell_type": "code",
   "execution_count": null,
   "id": "recovered-gossip",
   "metadata": {},
   "outputs": [],
   "source": [
    "charmm.write_inp()\n",
    "\n",
    "charmm.write_psf()\n",
    "\n",
    "charmm.write_pdb()\n",
    "\n",
    "\n",
    "gomc_control.write_gomc_control_file(charmm, 'in_NVT.conf',  'NVT', 100, 300 * u.Kelvin,\n",
    "                                     input_variables_dict={}\n",
    "                                     )"
   ]
  },
  {
   "cell_type": "code",
   "execution_count": null,
   "id": "af113896",
   "metadata": {},
   "outputs": [],
   "source": []
  }
 ],
 "metadata": {
  "kernelspec": {
   "display_name": "Python 3 (ipykernel)",
   "language": "python",
   "name": "python3"
  },
  "language_info": {
   "codemirror_mode": {
    "name": "ipython",
    "version": 3
   },
   "file_extension": ".py",
   "mimetype": "text/x-python",
   "name": "python",
   "nbconvert_exporter": "python",
   "pygments_lexer": "ipython3",
   "version": "3.9.13"
  }
 },
 "nbformat": 4,
 "nbformat_minor": 5
}

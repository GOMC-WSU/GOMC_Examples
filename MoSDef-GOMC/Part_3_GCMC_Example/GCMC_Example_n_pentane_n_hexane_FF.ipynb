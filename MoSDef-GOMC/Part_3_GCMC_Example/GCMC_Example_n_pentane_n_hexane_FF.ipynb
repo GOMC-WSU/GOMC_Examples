{
 "cells": [
  {
   "cell_type": "markdown",
   "id": "optical-evolution",
   "metadata": {},
   "source": [
    "# GOMC Example for the Grand Canonical (GCMC) Ensemble using MoSDeF [1, 2, 5-10, 13-17]\n"
   ]
  },
  {
   "cell_type": "markdown",
   "id": "working-singer",
   "metadata": {},
   "source": [
    "## Import the required packages and specify the box information, mol ratios, and FF being used [1, 2, 5-10, 13-17].\n",
    "\n",
    "## Note: Box 0 is the simulated box and Box 1 is the reservoir for the simulation."
   ]
  },
  {
   "cell_type": "code",
   "execution_count": 14,
   "id": "future-walker",
   "metadata": {},
   "outputs": [
    {
     "name": "stderr",
     "output_type": "stream",
     "text": [
      "/Users/brad/Programs/anaconda3/envs/GOMC_MOSDEF/lib/python3.9/site-packages/ipykernel/ipkernel.py:283: DeprecationWarning: `should_run_async` will not call `transform_cell` automatically in the future. Please pass the result to `transformed_cell` argument and any exception that happen during thetransform in `preprocessing_exc_tuple` in IPython 7.17 and above.\n",
      "  and should_run_async(code)\n"
     ]
    }
   ],
   "source": [
    "import mbuild as mb\n",
    "from foyer import Forcefield\n",
    "import mbuild.formats.charmm_writer as mf_charmm\n",
    "import mbuild.formats.gomc_conf_writer as gomc_control\n",
    "\n",
    "\n",
    "Box_0_box_length_Ang = 45\n",
    "Box_0_box_Total_molecules = 574\n",
    "\n",
    "Box_1_box_length_Ang = 175\n",
    "Box_1_box_Total_molecules = 105\n",
    "\n",
    "Molecule_A_mol_ratio = 0.5\n",
    "Molecule_B_mol_ratio = 0.5\n",
    "\n",
    "\n",
    "forcefield_files = 'trappe-ua'\n",
    "FF =  Forcefield(name = forcefield_files)"
   ]
  },
  {
   "cell_type": "markdown",
   "id": "automotive-garlic",
   "metadata": {},
   "source": [
    "## Select the united-atom (UA) molecules mol2 files and set the residue name, molecule types, and box 0 & 1 values.  Box 1 is the reservoir.\n",
    "\n",
    "## Note: For GOMC, the residue names are treated as molecules, so the residue names must be unique for each different molecule [1, 2, 13-17]."
   ]
  },
  {
   "cell_type": "code",
   "execution_count": 16,
   "id": "oriental-ribbon",
   "metadata": {},
   "outputs": [
    {
     "name": "stderr",
     "output_type": "stream",
     "text": [
      "/Users/brad/Programs/anaconda3/envs/GOMC_MOSDEF/lib/python3.9/site-packages/ipykernel/ipkernel.py:283: DeprecationWarning: `should_run_async` will not call `transform_cell` automatically in the future. Please pass the result to `transformed_cell` argument and any exception that happen during thetransform in `preprocessing_exc_tuple` in IPython 7.17 and above.\n",
      "  and should_run_async(code)\n"
     ]
    }
   ],
   "source": [
    "Molecule_A =mb.load('../common/pentane.mol2')\n",
    "FF.apply(Molecule_A)\n",
    "Molecule_A.name = 'PEN'\n",
    "\n",
    "Molecule_B =mb.load('../common/hexane.mol2')\n",
    "FF.apply(Molecule_B)\n",
    "Molecule_B.name = 'HEX'\n",
    "\n",
    "\n",
    "\n",
    "Molecule_Type_List = [Molecule_A, Molecule_B]\n",
    "Molecule_mol_ratio_List = [Molecule_A_mol_ratio, Molecule_B_mol_ratio]\n",
    "Molecules_of_each_type_Box_0_List = [int(Box_0_box_Total_molecules * Molecule_A_mol_ratio),\n",
    "                                      int(Box_0_box_Total_molecules * Molecule_B_mol_ratio) ]\n",
    "Molecules_of_each_type_Box_1_List = [int(Box_1_box_Total_molecules * Molecule_A_mol_ratio),\n",
    "                                      int(Box_1_box_Total_molecules * Molecule_B_mol_ratio) ]"
   ]
  },
  {
   "cell_type": "markdown",
   "id": "overhead-chance",
   "metadata": {},
   "source": [
    "## Put the residue names in a list for the Charmm object writer  [5-10, 13-17].  \n",
    "\n",
    "## Select the bead_to_atom_name_dict parameters, which changes the long force field specified atom name to a shorter version that will fit in the pdb files, allowing unique atom names for each atom per molecule.  This unique atom naming allows the special Monte Carlo (MC) moves to be applied in GOMC [5-10, 13-17]."
   ]
  },
  {
   "cell_type": "code",
   "execution_count": 17,
   "id": "separate-schedule",
   "metadata": {},
   "outputs": [
    {
     "name": "stderr",
     "output_type": "stream",
     "text": [
      "/Users/brad/Programs/anaconda3/envs/GOMC_MOSDEF/lib/python3.9/site-packages/ipykernel/ipkernel.py:283: DeprecationWarning: `should_run_async` will not call `transform_cell` automatically in the future. Please pass the result to `transformed_cell` argument and any exception that happen during thetransform in `preprocessing_exc_tuple` in IPython 7.17 and above.\n",
      "  and should_run_async(code)\n"
     ]
    }
   ],
   "source": [
    "Molecule_ResName_List = [Molecule_A.name, Molecule_B.name ]\n",
    "\n",
    "bead_to_atom_name_dict = { '_CH3':'C', '_CH2':'C',  '_CH':'C', '_HC':'C'}"
   ]
  },
  {
   "cell_type": "markdown",
   "id": "operational-blackjack",
   "metadata": {},
   "source": [
    "## Build the main simulation box (box 0) and its reservoir (box 1) for the simulation"
   ]
  },
  {
   "cell_type": "code",
   "execution_count": 19,
   "id": "unsigned-inspiration",
   "metadata": {},
   "outputs": [
    {
     "name": "stderr",
     "output_type": "stream",
     "text": [
      "/Users/brad/Programs/anaconda3/envs/GOMC_MOSDEF/lib/python3.9/site-packages/ipykernel/ipkernel.py:283: DeprecationWarning: `should_run_async` will not call `transform_cell` automatically in the future. Please pass the result to `transformed_cell` argument and any exception that happen during thetransform in `preprocessing_exc_tuple` in IPython 7.17 and above.\n",
      "  and should_run_async(code)\n"
     ]
    }
   ],
   "source": [
    "box_0 = mb.fill_box(compound = Molecule_Type_List,\n",
    "                    n_compounds=Molecules_of_each_type_Box_0_List,\n",
    "                    box = [Box_0_box_length_Ang/10,\n",
    "                           Box_0_box_length_Ang/10,\n",
    "                           Box_0_box_length_Ang/10])\n",
    "\n",
    "\n",
    "box_1 = mb.fill_box(compound = Molecule_Type_List,\n",
    "                    n_compounds=Molecules_of_each_type_Box_1_List,\n",
    "                    box = [Box_1_box_length_Ang/10 ,\n",
    "                           Box_1_box_length_Ang/10 ,\n",
    "                           Box_1_box_length_Ang/10 ])"
   ]
  },
  {
   "cell_type": "markdown",
   "id": "raising-imaging",
   "metadata": {},
   "source": [
    "## Build the Charmm object, which is required to write the force field (.inp), psf, pdb, and GOMC control files  [1, 2, 5-10, 13-17]"
   ]
  },
  {
   "cell_type": "code",
   "execution_count": 20,
   "id": "passive-bracket",
   "metadata": {},
   "outputs": [
    {
     "name": "stderr",
     "output_type": "stream",
     "text": [
      "/Users/brad/Programs/anaconda3/envs/GOMC_MOSDEF/lib/python3.9/site-packages/ipykernel/ipkernel.py:283: DeprecationWarning: `should_run_async` will not call `transform_cell` automatically in the future. Please pass the result to `transformed_cell` argument and any exception that happen during thetransform in `preprocessing_exc_tuple` in IPython 7.17 and above.\n",
      "  and should_run_async(code)\n"
     ]
    },
    {
     "name": "stdout",
     "output_type": "stream",
     "text": [
      "write_gomcdata: forcefield_selection = trappe-ua, residues = ['PEN', 'HEX']\n",
      "FF forcefield_selection = {'PEN': 'trappe-ua', 'HEX': 'trappe-ua'}\n",
      "******************************\n",
      "\n",
      "GOMC FF writing each residues FF as a group for structure_box_0\n",
      "forcefield_selection = {'PEN': 'trappe-ua', 'HEX': 'trappe-ua'}\n"
     ]
    },
    {
     "name": "stderr",
     "output_type": "stream",
     "text": [
      "/Users/brad/Programs/anaconda3/envs/GOMC_MOSDEF/lib/python3.9/site-packages/foyer/forcefield.py:472: UserWarning: Non-atomistic element type detected. Creating custom element for _CH4\n",
      "  warnings.warn('Non-atomistic element type detected. '\n",
      "/Users/brad/Programs/anaconda3/envs/GOMC_MOSDEF/lib/python3.9/site-packages/foyer/forcefield.py:472: UserWarning: Non-atomistic element type detected. Creating custom element for _CH3\n",
      "  warnings.warn('Non-atomistic element type detected. '\n",
      "/Users/brad/Programs/anaconda3/envs/GOMC_MOSDEF/lib/python3.9/site-packages/foyer/forcefield.py:472: UserWarning: Non-atomistic element type detected. Creating custom element for _CH2\n",
      "  warnings.warn('Non-atomistic element type detected. '\n",
      "/Users/brad/Programs/anaconda3/envs/GOMC_MOSDEF/lib/python3.9/site-packages/foyer/forcefield.py:472: UserWarning: Non-atomistic element type detected. Creating custom element for _HC\n",
      "  warnings.warn('Non-atomistic element type detected. '\n",
      "/Users/brad/Programs/anaconda3/envs/GOMC_MOSDEF/lib/python3.9/site-packages/foyer/forcefield.py:448: UserWarning: No force field version number found in force field XML file.\n",
      "  warnings.warn(\n",
      "/Users/brad/Programs/anaconda3/envs/GOMC_MOSDEF/lib/python3.9/site-packages/foyer/forcefield.py:460: UserWarning: No force field name found in force field XML file.\n",
      "  warnings.warn(\n"
     ]
    },
    {
     "name": "stdout",
     "output_type": "stream",
     "text": [
      "GOMC FF writing each residues FF as a group for  structure_box_1\n",
      "forcefield_selection = {'PEN': 'trappe-ua', 'HEX': 'trappe-ua'}\n",
      "forcefield type from compound = {'PEN': 'trappe-ua', 'HEX': 'trappe-ua'}\n",
      "coulomb14scale from compound = {'PEN': 0.0, 'HEX': 0.0}\n",
      "lj14scale from compound = {'PEN': 0.0, 'HEX': 0.0}\n",
      "all_res_unique_atom_name_dict = {'PEN': ['C1', 'C2', 'C3', 'C4', 'C5'], 'HEX': ['C1', 'C2', 'C3', 'C4', 'C5', 'C6']}\n"
     ]
    }
   ],
   "source": [
    "charmm = mf_charmm.Charmm(box_0,\n",
    "                          'GCMC_n_pentane_n_hexane_Box_0',\n",
    "                          structure_box_1=box_1,\n",
    "                          filename_box_1='GCMC_n_pentane_n_hexane_Box_1',\n",
    "                          ff_filename =\"GCMC_n_pentane_n_hexane_FF\",\n",
    "                          forcefield_selection=forcefield_files,\n",
    "                          residues= Molecule_ResName_List,\n",
    "                          bead_to_atom_name_dict=bead_to_atom_name_dict ,\n",
    "                          gomc_fix_bonds_angles=None,\n",
    "                         )"
   ]
  },
  {
   "cell_type": "markdown",
   "id": "sorted-possession",
   "metadata": {},
   "source": [
    "## Write the write the force field (.inp), psf, pdb, and GOMC control files  [1, 2, 5-10, 13-17]"
   ]
  },
  {
   "cell_type": "code",
   "execution_count": 21,
   "id": "recovered-gossip",
   "metadata": {},
   "outputs": [
    {
     "name": "stderr",
     "output_type": "stream",
     "text": [
      "/Users/brad/Programs/anaconda3/envs/GOMC_MOSDEF/lib/python3.9/site-packages/ipykernel/ipkernel.py:283: DeprecationWarning: `should_run_async` will not call `transform_cell` automatically in the future. Please pass the result to `transformed_cell` argument and any exception that happen during thetransform in `preprocessing_exc_tuple` in IPython 7.17 and above.\n",
      "  and should_run_async(code)\n"
     ]
    },
    {
     "name": "stdout",
     "output_type": "stream",
     "text": [
      "******************************\n",
      "\n",
      "The charmm force field file writer (the write_inp function) is running\n",
      "******************************\n",
      "\n",
      "The charmm force field file writer (the write_inp function) is running\n",
      "******************************\n",
      "\n",
      "writing the GOMC force field file \n",
      "No urey bradley terms detected, will use angle_style harmonic\n",
      "will use CHARMM_torsions  =  K0 + K1 * (1 + Cos[n1*(t) - (d1)] ) + K2 * (1 + Cos[n2*(t) - (d2)] ) + K3 * (1 + Cos[n3*(t) - (d3)] ) + K4 * (1 + Cos[n4*(t) - (d4)] ) + K5 * (1 + Cos[n5*(t) - (d5)] ) \n",
      "! RB-torsion to CHARMM dihedral conversion error is OK [error <= 10^(-10)]\n",
      "! Maximum( |(RB-torsion calc)-(CHARMM dihedral calc)| ) =  1.2878587085651816e-14\n",
      "\n",
      "NBFIX_Mixing not used or no mixing used for the non-bonded potentials out\n",
      "self.non_bonded_type = LJ\n",
      "forcefield_dict = {3: 'CH3_sp3_PEN', 1: 'CH2_sp3_PEN', 2: 'CH3_sp3_HEX', 0: 'CH2_sp3_HEX'}\n",
      "******************************\n",
      "\n",
      "The charmm X-plor format psf writer (the write_psf function) is running\n",
      "write_psf: forcefield_selection = {'PEN': 'trappe-ua', 'HEX': 'trappe-ua'}, residues = ['PEN', 'HEX']\n",
      "******************************\n",
      "\n",
      "No urey bradley terms detected\n",
      "RB Torsions detected, will converted to CHARMM Dihedrals\n",
      "bead_to_atom_name_dict = {'_CH3': 'C', '_CH2': 'C', '_CH': 'C', '_HC': 'C'}\n",
      "No urey bradley terms detected\n",
      "RB Torsions detected, will converted to CHARMM Dihedrals\n",
      "bead_to_atom_name_dict = {'_CH3': 'C', '_CH2': 'C', '_CH': 'C', '_HC': 'C'}\n",
      "******************************\n",
      "\n",
      "The charmm pdb writer (the write_pdb function) is running\n",
      "write_charmm_pdb: residues == ['PEN', 'HEX']\n",
      "fix_residue = None\n",
      "fix_residue_in_box = None\n",
      "bead_to_atom_name_dict = {'_CH3': 'C', '_CH2': 'C', '_CH': 'C', '_HC': 'C'}\n",
      "INFORMATION: No atoms are fixed in this pdb file for the GOMC simulation engine. \n",
      "******************************\n",
      "\n",
      "INFO: ensemble_type = GCMC\n",
      "INFO: All the ensemble (ensemble_type) input passed the intial error checking\n",
      "INFO: All the Temperature  (Temperature) input passed the initial error checking\n",
      "INFO: All the required force field, pdb, and psf files for box 0 (.inp, .pdb, and .psf) all passed the intial error checking. Note: the file names and their existance is not confirmed.\n",
      "INFO: All the input variable passed the intial error checking\n",
      "INFO: The sum of the Monte Carlo move ratios = 1.000000000000\n",
      "INFO: the correct extension for the control file was provided in the file name, .conf with control file name = in_GCMC.conf\n"
     ]
    },
    {
     "data": {
      "text/plain": [
       "'GOMC_CONTROL_FILE_WRITTEN'"
      ]
     },
     "execution_count": 21,
     "metadata": {},
     "output_type": "execute_result"
    }
   ],
   "source": [
    "charmm.write_inp()\n",
    "\n",
    "charmm.write_psf()\n",
    "\n",
    "charmm.write_pdb()\n",
    "\n",
    "\n",
    "gomc_control.write_gomc_control_file(charmm, 'in_GCMC.conf',  'GCMC', 100, 300,\n",
    "                                     input_variables_dict = {\n",
    "                                         \"ChemPot\" : {\"PEN\" : -4000, \"HEX\" : -8000}\n",
    "                                     }\n",
    "                                     )\n"
   ]
  },
  {
   "cell_type": "code",
   "execution_count": null,
   "id": "destroyed-investment",
   "metadata": {},
   "outputs": [],
   "source": []
  },
  {
   "cell_type": "code",
   "execution_count": null,
   "id": "promotional-timer",
   "metadata": {},
   "outputs": [],
   "source": []
  }
 ],
 "metadata": {
  "kernelspec": {
   "display_name": "Python 3",
   "language": "python",
   "name": "python3"
  },
  "language_info": {
   "codemirror_mode": {
    "name": "ipython",
    "version": 3
   },
   "file_extension": ".py",
   "mimetype": "text/x-python",
   "name": "python",
   "nbconvert_exporter": "python",
   "pygments_lexer": "ipython3",
   "version": "3.9.1"
  }
 },
 "nbformat": 4,
 "nbformat_minor": 5
}

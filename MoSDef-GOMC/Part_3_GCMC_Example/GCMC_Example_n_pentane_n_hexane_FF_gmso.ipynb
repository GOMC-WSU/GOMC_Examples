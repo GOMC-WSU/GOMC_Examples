{
 "cells": [
  {
   "cell_type": "markdown",
   "id": "optical-evolution",
   "metadata": {},
   "source": [
    "# GOMC Example for the Grand Canonical (GCMC) Ensemble using MoSDeF [1, 2, 5-10, 13-17]\n"
   ]
  },
  {
   "cell_type": "markdown",
   "id": "working-singer",
   "metadata": {},
   "source": [
    "## Import the required packages and specify the box information, mol ratios, and FF being used [1, 2, 5-10, 13-17].\n",
    "\n",
    "## Note: Box 0 is the simulated box and Box 1 is the reservoir for the simulation."
   ]
  },
  {
   "cell_type": "code",
   "execution_count": null,
   "id": "future-walker",
   "metadata": {},
   "outputs": [],
   "source": [
    "import mbuild as mb\n",
    "import unyt as u\n",
    "import mosdef_gomc.formats.gmso_charmm_writer as mf_charmm\n",
    "import mosdef_gomc.formats.gmso_gomc_conf_writer as gomc_control\n",
    "\n",
    "\n",
    "Box_0_box_length_Ang = 45\n",
    "Box_0_box_Total_molecules = 574\n",
    "\n",
    "Box_1_box_length_Ang = 175\n",
    "Box_1_box_Total_molecules = 105\n",
    "\n",
    "Molecule_A_mol_ratio = 0.5\n",
    "Molecule_B_mol_ratio = 0.5\n",
    "\n",
    "\n",
    "forcefield_files = 'trappe-ua'"
   ]
  },
  {
   "cell_type": "markdown",
   "id": "automotive-garlic",
   "metadata": {},
   "source": [
    "## Select the united-atom (UA) molecules mol2 files and set the residue name, molecule types, and box 0 & 1 values.  Box 1 is the reservoir.\n",
    "\n",
    "## Note: For GOMC, the residue names are treated as molecules, so the residue names must be unique for each different molecule [1, 2, 13-17]."
   ]
  },
  {
   "cell_type": "code",
   "execution_count": null,
   "id": "oriental-ribbon",
   "metadata": {},
   "outputs": [],
   "source": [
    "Molecule_A =mb.load('../common/pentane.mol2')\n",
    "Molecule_A.name = 'PEN'\n",
    "\n",
    "Molecule_B =mb.load('../common/hexane.mol2')\n",
    "Molecule_B.name = 'HEX'\n",
    "\n",
    "\n",
    "\n",
    "Molecule_Type_List = [Molecule_A, Molecule_B]\n",
    "Molecule_mol_ratio_List = [Molecule_A_mol_ratio, Molecule_B_mol_ratio]\n",
    "Molecules_of_each_type_Box_0_List = [int(Box_0_box_Total_molecules * Molecule_A_mol_ratio),\n",
    "                                      int(Box_0_box_Total_molecules * Molecule_B_mol_ratio) ]\n",
    "Molecules_of_each_type_Box_1_List = [int(Box_1_box_Total_molecules * Molecule_A_mol_ratio),\n",
    "                                      int(Box_1_box_Total_molecules * Molecule_B_mol_ratio) ]"
   ]
  },
  {
   "cell_type": "markdown",
   "id": "overhead-chance",
   "metadata": {},
   "source": [
    "## Put the residue names in a list for the Charmm object writer  [5-10, 13-17].  \n",
    "\n",
    "## Select the bead_to_atom_name_dict parameters, which changes the long force field specified atom name to a shorter version that will fit in the pdb files, allowing unique atom names for each atom per molecule.  This unique atom naming allows the special Monte Carlo (MC) moves to be applied in GOMC [5-10, 13-17]."
   ]
  },
  {
   "cell_type": "code",
   "execution_count": null,
   "id": "separate-schedule",
   "metadata": {},
   "outputs": [],
   "source": [
    "Molecule_ResName_List = [Molecule_A.name, Molecule_B.name ]\n",
    "\n",
    "bead_to_atom_name_dict = { '_CH3':'C', '_CH2':'C',  '_CH':'C', '_HC':'C'}"
   ]
  },
  {
   "cell_type": "markdown",
   "id": "operational-blackjack",
   "metadata": {},
   "source": [
    "## Build the main simulation box (box 0) and its reservoir (box 1) for the simulation"
   ]
  },
  {
   "cell_type": "code",
   "execution_count": null,
   "id": "unsigned-inspiration",
   "metadata": {},
   "outputs": [],
   "source": [
    "box_0 = mb.fill_box(compound = Molecule_Type_List,\n",
    "                    n_compounds=Molecules_of_each_type_Box_0_List,\n",
    "                    box = [Box_0_box_length_Ang/10,\n",
    "                           Box_0_box_length_Ang/10,\n",
    "                           Box_0_box_length_Ang/10])\n",
    "\n",
    "\n",
    "box_1 = mb.fill_box(compound = Molecule_Type_List,\n",
    "                    n_compounds=Molecules_of_each_type_Box_1_List,\n",
    "                    box = [Box_1_box_length_Ang/10 ,\n",
    "                           Box_1_box_length_Ang/10 ,\n",
    "                           Box_1_box_length_Ang/10 ])"
   ]
  },
  {
   "cell_type": "markdown",
   "id": "raising-imaging",
   "metadata": {},
   "source": [
    "## Build the Charmm object, which is required to write the force field (.inp), psf, pdb, and GOMC control files  [1, 2, 5-10, 13-17]"
   ]
  },
  {
   "cell_type": "code",
   "execution_count": null,
   "id": "passive-bracket",
   "metadata": {},
   "outputs": [],
   "source": [
    "charmm = mf_charmm.Charmm(box_0,\n",
    "                          'GCMC_n_pentane_n_hexane_Box_0',\n",
    "                          structure_box_1=box_1,\n",
    "                          filename_box_1='GCMC_n_pentane_n_hexane_Box_1',\n",
    "                          ff_filename =\"GCMC_n_pentane_n_hexane_FF\",\n",
    "                          forcefield_selection=forcefield_files,\n",
    "                          residues= Molecule_ResName_List,\n",
    "                          bead_to_atom_name_dict=bead_to_atom_name_dict ,\n",
    "                          gomc_fix_bonds_angles=None,\n",
    "                         )"
   ]
  },
  {
   "cell_type": "markdown",
   "id": "sorted-possession",
   "metadata": {},
   "source": [
    "## Write the write the force field (.inp), psf, pdb, and GOMC control files  [1, 2, 5-10, 13-17]"
   ]
  },
  {
   "cell_type": "code",
   "execution_count": null,
   "id": "recovered-gossip",
   "metadata": {},
   "outputs": [],
   "source": [
    "charmm.write_inp()\n",
    "\n",
    "charmm.write_psf()\n",
    "\n",
    "charmm.write_pdb()\n",
    "\n",
    "\n",
    "gomc_control.write_gomc_control_file(charmm, 'in_GCMC.conf',  'GCMC', 100, 300 * u.Kelvin,\n",
    "                                     input_variables_dict = {\n",
    "                                         \"ChemPot\" : {\"PEN\" : -4000 * u.Kelvin, \"HEX\" : -8000 * u.Kelvin}\n",
    "                                     }\n",
    "                                     )\n"
   ]
  },
  {
   "cell_type": "code",
   "execution_count": null,
   "id": "destroyed-investment",
   "metadata": {},
   "outputs": [],
   "source": []
  },
  {
   "cell_type": "code",
   "execution_count": null,
   "id": "promotional-timer",
   "metadata": {},
   "outputs": [],
   "source": []
  }
 ],
 "metadata": {
  "kernelspec": {
   "display_name": "Python 3 (ipykernel)",
   "language": "python",
   "name": "python3"
  },
  "language_info": {
   "codemirror_mode": {
    "name": "ipython",
    "version": 3
   },
   "file_extension": ".py",
   "mimetype": "text/x-python",
   "name": "python",
   "nbconvert_exporter": "python",
   "pygments_lexer": "ipython3",
   "version": "3.9.12"
  }
 },
 "nbformat": 4,
 "nbformat_minor": 5
}

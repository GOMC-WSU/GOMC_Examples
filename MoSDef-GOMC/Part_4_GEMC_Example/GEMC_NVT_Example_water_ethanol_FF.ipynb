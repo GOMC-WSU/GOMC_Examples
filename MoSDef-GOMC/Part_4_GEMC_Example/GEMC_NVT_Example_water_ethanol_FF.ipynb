{
 "cells": [
  {
   "cell_type": "markdown",
   "id": "optical-evolution",
   "metadata": {},
   "source": [
    "# GOMC Example for the Gibbs Ensemble (GEMC) using MoSDeF [1, 2, 5-10, 13-17]\n",
    "\n",
    "### Note: In this specific example, we will be using the GEMC_NVT ensemble."
   ]
  },
  {
   "cell_type": "markdown",
   "id": "working-singer",
   "metadata": {},
   "source": [
    "## Import the required packages and specify the force field (FF) being used. \n",
    "\n",
    "## Note: For GOMC, the residue names are treated as molecules, so the residue names must be unique for each different molecule. [1, 2, 13-17]\n",
    "\n",
    "## Note: Each residue can be set to a different FF, which is done by setting the residue name to a FF in a dictionary (FF_Dict).  The FF selection can be a FF name (set from foyer FF repositor) or a specified FF xml file. [1, 2, 13-17]\n",
    "\n"
   ]
  },
  {
   "cell_type": "code",
   "execution_count": null,
   "id": "future-walker",
   "metadata": {
    "scrolled": true
   },
   "outputs": [],
   "source": [
    "import mbuild as mb\n",
    "from foyer import Forcefield\n",
    "import mbuild.formats.charmm_writer as mf_charmm\n",
    "import mbuild.formats.gomc_conf_writer as gomc_control\n",
    "\n",
    "\n",
    "FF_file_water = '../common/spce_oplsaa.xml'\n",
    "water = mb.load('O', smiles=True)\n",
    "water.name = 'H2O'\n",
    "\n",
    "water.energy_minimize(forcefield=FF_file_water, steps=10**5)\n",
    "\n",
    "FF_file_ethanol = 'oplsaa'\n",
    "ethanol = mb.load('CCO', smiles=True)\n",
    "ethanol.name = 'ETO'\n",
    "ethanol.energy_minimize(forcefield=FF_file_ethanol, steps=10**5)\n",
    "\n",
    "FF_dict = {water.name: FF_file_water, ethanol.name: FF_file_ethanol}\n",
    "\n",
    "residues_list = [ethanol.name, water.name]\n",
    "\n",
    "fix_bonds_angles_residues = [water.name]"
   ]
  },
  {
   "cell_type": "markdown",
   "id": "operational-blackjack",
   "metadata": {},
   "source": [
    "## Build the main simulation liquid box (box 0) and the vapor (box 1) for the simulation [1, 2, 13-17]"
   ]
  },
  {
   "cell_type": "code",
   "execution_count": null,
   "id": "unsigned-inspiration",
   "metadata": {},
   "outputs": [],
   "source": [
    "water_ethanol_box_liq = mb.fill_box(compound=[water, ethanol],\n",
    "                                    density= 950,\n",
    "                                    compound_ratio=[0.8, 0.2] ,\n",
    "                                    box=[3.0, 3.0, 3.0])\n",
    "\n",
    "water_ethanol_box_vap = mb.fill_box(compound=[water,ethanol],\n",
    "                                    density= 100,\n",
    "                                    compound_ratio=[0.8, 0.2],\n",
    "                                    box=[8, 8, 8])"
   ]
  },
  {
   "cell_type": "markdown",
   "id": "raising-imaging",
   "metadata": {},
   "source": [
    "## Build the Charmm object, which is required to write the FF (.inp), psf, pdb, and GOMC control files [1, 2, 5-10, 13-17]\n",
    "\n",
    "## The reorder_res_in_pdb_psf command reorders the psf and pdb to the order residues variable (i.e., the residues_list in this case) [1, 2, 13-17].  \n",
    "\n",
    "## The fix_res_bonds_angles command fixes the angles and bonds for water in the Charmm FF file.  Note: This is specific to GOMC, as it sets the bond and angle k-values to 999999999999 [1, 2, 5-10, 13-17]."
   ]
  },
  {
   "cell_type": "code",
   "execution_count": null,
   "id": "passive-bracket",
   "metadata": {},
   "outputs": [],
   "source": [
    "charmm = mf_charmm.Charmm(water_ethanol_box_liq,\n",
    "                          'GEMC_NVT_water_ethanol_liq',\n",
    "                          structure_box_1=water_ethanol_box_vap,\n",
    "                          filename_box_1='GEMC_NVT_water_ethanol_vap',\n",
    "                          ff_filename=\"GEMC_NVT_water_ethanol_FF\",\n",
    "                          forcefield_selection=FF_dict,\n",
    "                          residues=residues_list,\n",
    "                          bead_to_atom_name_dict=None,\n",
    "                          fix_residue=None,\n",
    "                          gomc_fix_bonds_angles=fix_bonds_angles_residues,\n",
    "                          reorder_res_in_pdb_psf=True\n",
    "                          )"
   ]
  },
  {
   "cell_type": "markdown",
   "id": "sorted-possession",
   "metadata": {},
   "source": [
    "## Write the write the FF (.inp), psf, pdb, and GOMC control files [1, 2, 5-10, 13-17]"
   ]
  },
  {
   "cell_type": "code",
   "execution_count": null,
   "id": "recovered-gossip",
   "metadata": {},
   "outputs": [],
   "source": [
    "charmm.write_inp()\n",
    "\n",
    "charmm.write_psf()\n",
    "\n",
    "charmm.write_pdb()\n",
    "\n",
    "\n",
    "gomc_control.write_gomc_control_file(charmm, 'in_GEMC_NVT.conf', 'GEMC_NVT', 100, 300,\n",
    "                                     input_variables_dict={\"VDWGeometricSigma\": True,\n",
    "                                                           \"Rcut\": 12,\n",
    "                                                           \"RcutCoulomb_box_1\": 20,\n",
    "                                                           \"DisFreq\": 0.20,\n",
    "                                                           \"RotFreq\": 0.20, \n",
    "                                                           \"IntraSwapFreq\": 0.10,\n",
    "                                                           \"SwapFreq\": 0.20,\n",
    "                                                           \"RegrowthFreq\": 0.20,\n",
    "                                                           \"CrankShaftFreq\": 0.09,\n",
    "                                                           \"VolFreq\": 0.01,\n",
    "                                                           \"MultiParticleFreq\": 0.00,\n",
    "                                                           }\n",
    "                                    )"
   ]
  },
  {
   "cell_type": "code",
   "execution_count": null,
   "id": "destroyed-investment",
   "metadata": {},
   "outputs": [],
   "source": []
  },
  {
   "cell_type": "code",
   "execution_count": null,
   "id": "electronic-theme",
   "metadata": {},
   "outputs": [],
   "source": []
  },
  {
   "cell_type": "code",
   "execution_count": null,
   "id": "adjacent-cross",
   "metadata": {},
   "outputs": [],
   "source": []
  },
  {
   "cell_type": "code",
   "execution_count": null,
   "id": "bbc12c85",
   "metadata": {},
   "outputs": [],
   "source": []
  },
  {
   "cell_type": "code",
   "execution_count": null,
   "id": "46b5aabb",
   "metadata": {},
   "outputs": [],
   "source": []
  }
 ],
 "metadata": {
  "kernelspec": {
   "display_name": "Python 3 (ipykernel)",
   "language": "python",
   "name": "python3"
  },
  "language_info": {
   "codemirror_mode": {
    "name": "ipython",
    "version": 3
   },
   "file_extension": ".py",
   "mimetype": "text/x-python",
   "name": "python",
   "nbconvert_exporter": "python",
   "pygments_lexer": "ipython3",
   "version": "3.8.12"
  }
 },
 "nbformat": 4,
 "nbformat_minor": 5
}
